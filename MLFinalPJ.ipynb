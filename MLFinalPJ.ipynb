{
 "cells": [
  {
   "cell_type": "markdown",
   "metadata": {},
   "source": [
    "\n",
    "*Flower Classification using CNN *\n",
    "\n",
    "Isha Sharma, Lei Chan, Kandace Richards\n",
    "\n",
    "1. Introduction\n",
    "\n",
    "There are millions of beautiful flowers bursting around every corner, & we've been constantly awed by the beauty & uniqueness of each flower. Classifiying different flowers from one another is indeed a challenging task, as there're a plethora of flowers to classify & flowers can appear similar to each other. However, classifiying different flowers species will be advantageous in the fields such as the pharmaceutical industry, botany, agricultural, & trade activities, which is why we thought of performing this task.\n",
    "\n",
    "The main aim of this project is to solve a Supervised Image Classification problem of classifying the flower types - rose, chamomile, dandelion, sunflower, & tulip. In the end, we’ll have a trained model, which can predict the class of the flower using a Machine Learning algorithm, the Convolutional Neural Networks (CNN).\n",
    "\n",
    "2. Source\n",
    "\n",
    "The dataset used for this project was the Flowers Recognition dataset from Kaggle, which consists of 5 classes of flower species - rose, chamomile, dandelion, sunflower, & tulip, each having about 800 images. So, we’ve a total of 4242 images to train our model with.\n",
    "\n",
    "3. Procedure\n",
    "\n",
    "3.1 Importing Libraries\n",
    "\n",
    "This code should only run once for the entire project because its purpose is to extract data and convert it into an npz file for use during the program. Once the npz file has been created, it does not need to be created multiple times since we hold a reference to these files.\n",
    "\n",
    "Initally, the following libraries were imported to use in the data conversion process:"
   ]
  },
  {
   "cell_type": "code",
   "execution_count": 2,
   "metadata": {},
   "outputs": [],
   "source": [
    "# used for manipulating directory paths\n",
    "import os\n",
    "import shutil\n",
    "from os.path import isfile, join, abspath, exists, isdir, expanduser\n",
    "from os import listdir, makedirs, getcwd, remove\n",
    "from pathlib import Path\n",
    "\n",
    "# Data visualisation & manipulation\n",
    "import pandas as pd \n",
    "import seaborn as sns\n",
    "\n",
    "# Specifically for manipulating zipped images and getting numpy arrays of pixel values of images.\n",
    "import matplotlib.pyplot as plt\n",
    "import matplotlib.image as mimg\n",
    "import numpy as np \n",
    "\n",
    "# Plotting library\n",
    "from mpl_toolkits.mplot3d import Axes3D  # needed to plot 3-D surfaces\n",
    "\n",
    "# dl libraries specifically for CNN\n",
    "from keras.preprocessing.image import ImageDataGenerator,load_img, img_to_array\n",
    "from keras import layers\n",
    "from keras import models\n",
    "from keras import optimizers\n",
    "\n",
    "# Import the Image module of PIL into the shell:\n",
    "# pip install Pillow\n",
    "# pip install opencv-python\n",
    "from PIL import Image\n",
    "from skimage.io import imread\n",
    "import cv2\n",
    "\n",
    "# Tells matplotlib to embed plots within the notebook\n",
    "%matplotlib inline\n",
    "\n",
    "import math"
   ]
  },
  {
   "cell_type": "markdown",
   "metadata": {},
   "source": [
    "3.2 Reading the Dataset\n",
    "\n",
    "After importing the libraries, we began importing the flower data, using the os & pandas modules. We also, extracted & plotted few sample of different flowers for some visualisation."
   ]
  },
  {
   "cell_type": "code",
   "execution_count": null,
   "metadata": {},
   "outputs": [],
   "source": [
    "# Original dataset folder\n",
    "# inputPath = Path('/')\n",
    "\n",
    "flowersPath = Path('flowersData')\n",
    "\n",
    "# Each species of flower is contained in a separate folder, & this is to get all the sub-directories\n",
    "flowers = os.listdir(flowersPath)\n",
    "print(\"Number of types of flowers: \", len(flowers))\n",
    "print(\"Types of flowers: \", flowers)\n",
    "\n",
    "# A list which contains tuples, the type of flower and the corresponding image path\n",
    "flowersList = []\n",
    "\n",
    "for species in flowers:\n",
    "    # Get all the file names\n",
    "    allFlowers = os.listdir(flowersPath / species)\n",
    "    # Add them to the list\n",
    "    for flower in allFlowers:\n",
    "        flowersList.append((species, str(flowersPath /species) + '/' + flower))\n",
    "\n",
    "# Build a dataframe        \n",
    "flowersList = pd.DataFrame(data=flowersList, columns=['category', 'image'], index=None)\n",
    "flowersList.head()"
   ]
  },
  {
   "cell_type": "code",
   "execution_count": null,
   "metadata": {},
   "outputs": [],
   "source": [
    "# Let's check how many samples for each category are present\n",
    "print(\"Total number of flowers in the dataset: \", len(flowersList))\n",
    "flowerNum = flowersList['category'].value_counts()\n",
    "print(\"Flowers in each category: \")\n",
    "print(flowerNum)\n",
    "\n",
    "# A list for storing names of some random samples from each category\n",
    "RanSamples = []\n",
    "\n",
    "# Get samples fom each category \n",
    "for category in flowerNum.index:\n",
    "    samples = flowersList['image'][flowersList['category'] == category].sample(4).values\n",
    "    for sample in samples:\n",
    "        RanSamples.append(sample)\n",
    "\n",
    "# Plot the samples\n",
    "f, ax = plt.subplots(5,4, figsize=(15,10))\n",
    "for i,sample in enumerate(RanSamples):\n",
    "    ax[i//4, i%4].imshow(mimg.imread(RanSamples[i]))\n",
    "    ax[i//4, i%4].axis('off')\n",
    "plt.show()    "
   ]
  },
  {
   "cell_type": "markdown",
   "metadata": {},
   "source": [
    "This snippet is to visualise how many samples we've for each flower type in the bar chart."
   ]
  },
  {
   "cell_type": "code",
   "execution_count": null,
   "metadata": {},
   "outputs": [],
   "source": [
    "# Let's do some visualization and see how many samples we have for each category\n",
    "f, axe = plt.subplots(1,1,figsize=(14,6))\n",
    "sns.barplot(x = flowerNum.index, y = flowerNum.values, ax = axe, palette=\"rocket\")\n",
    "axe.set_title(\"Flowers count for each category\", fontsize=16)\n",
    "axe.set_xlabel('Category', fontsize=14)\n",
    "axe.set_ylabel('Count', fontsize=14)\n",
    "plt.show()"
   ]
  },
  {
   "cell_type": "markdown",
   "metadata": {},
   "source": [
    "After extracting all of the flower data from the file, we converted image to pixels & printed them out for all the random sampled images."
   ]
  },
  {
   "cell_type": "code",
   "execution_count": null,
   "metadata": {},
   "outputs": [],
   "source": [
    "# convert image to pixels, print the pixels\n",
    "def convert_pix_matrix(imageUrl):\n",
    "    pix_val = imread(imageUrl)\n",
    "    return pix_val\n",
    "\n",
    "def heightWidth(imageUrl,heightWidth):\n",
    "    im = Image.open(imageUrl)\n",
    "    h, w = im.size\n",
    "    if (heightWidth == \"width\"):\n",
    "        return w\n",
    "    else:\n",
    "        return h\n",
    "    \n",
    "# first example from rand sample\n",
    "print(\"image width: \", heightWidth(RanSamples[0],\"width\"))\n",
    "print(\"image height: \", heightWidth(RanSamples[0],\"height\"))\n",
    "print(convert_pix_matrix(RanSamples[0]))\n",
    "\n",
    "# read the pixels and conver back to image\n",
    "def readPixel(pixel):\n",
    "    img = Image.fromarray(pixel)\n",
    "    img.save('readPxielExample.png')\n",
    "    img.show()\n",
    "    \n",
    "readPixel(convert_pix_matrix(RanSamples[1]))"
   ]
  }
 ],
 "metadata": {
  "kernelspec": {
   "display_name": "Python 3",
   "language": "python",
   "name": "python3"
  },
  "language_info": {
   "codemirror_mode": {
    "name": "ipython",
    "version": 3
   },
   "file_extension": ".py",
   "mimetype": "text/x-python",
   "name": "python",
   "nbconvert_exporter": "python",
   "pygments_lexer": "ipython3",
   "version": "3.8.3-final"
  }
 },
 "nbformat": 4,
 "nbformat_minor": 4
}